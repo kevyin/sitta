{
 "cells": [
  {
   "cell_type": "code",
   "execution_count": 1,
   "metadata": {
    "collapsed": true
   },
   "outputs": [],
   "source": [
    "import pandas as pd\n",
    "import numpy as np"
   ]
  },
  {
   "cell_type": "code",
   "execution_count": 12,
   "metadata": {
    "collapsed": false
   },
   "outputs": [
    {
     "data": {
      "text/html": [
       "<div>\n",
       "<table border=\"1\" class=\"dataframe\">\n",
       "  <thead>\n",
       "    <tr style=\"text-align: right;\">\n",
       "      <th></th>\n",
       "      <th>ccs</th>\n",
       "    </tr>\n",
       "  </thead>\n",
       "  <tbody>\n",
       "    <tr>\n",
       "      <th>count</th>\n",
       "      <td>45349.000000</td>\n",
       "    </tr>\n",
       "    <tr>\n",
       "      <th>mean</th>\n",
       "      <td>0.695099</td>\n",
       "    </tr>\n",
       "    <tr>\n",
       "      <th>std</th>\n",
       "      <td>0.171662</td>\n",
       "    </tr>\n",
       "    <tr>\n",
       "      <th>min</th>\n",
       "      <td>0.045455</td>\n",
       "    </tr>\n",
       "    <tr>\n",
       "      <th>25%</th>\n",
       "      <td>0.577778</td>\n",
       "    </tr>\n",
       "    <tr>\n",
       "      <th>50%</th>\n",
       "      <td>0.673645</td>\n",
       "    </tr>\n",
       "    <tr>\n",
       "      <th>75%</th>\n",
       "      <td>0.822848</td>\n",
       "    </tr>\n",
       "    <tr>\n",
       "      <th>max</th>\n",
       "      <td>1.000000</td>\n",
       "    </tr>\n",
       "  </tbody>\n",
       "</table>\n",
       "</div>"
      ],
      "text/plain": [
       "                ccs\n",
       "count  45349.000000\n",
       "mean       0.695099\n",
       "std        0.171662\n",
       "min        0.045455\n",
       "25%        0.577778\n",
       "50%        0.673645\n",
       "75%        0.822848\n",
       "max        1.000000"
      ]
     },
     "execution_count": 12,
     "metadata": {},
     "output_type": "execute_result"
    }
   ],
   "source": [
    "dataf = pd.read_csv('../data/exomecqa_refseq_target_gene.out', sep='\\t', names=['chrom', \n",
    "                                                                               'gene', 'ccs'])\n",
    "dataf.head()\n",
    "dataf.describe()"
   ]
  },
  {
   "cell_type": "code",
   "execution_count": 15,
   "metadata": {
    "collapsed": false
   },
   "outputs": [
    {
     "data": {
      "text/plain": [
       "array([[<matplotlib.axes._subplots.AxesSubplot object at 0x7f74228cc9d0>]], dtype=object)"
      ]
     },
     "execution_count": 15,
     "metadata": {},
     "output_type": "execute_result"
    },
    {
     "data": {
      "image/png": "[encoded data removed]",
      "text/plain": [
       "<matplotlib.figure.Figure at 0x7f7422917c10>"
      ]
     },
     "metadata": {},
     "output_type": "display_data"
    }
   ],
   "source": [
    "%matplotlib inline\n",
    "dataf.hist()"
   ]
  },
  {
   "cell_type": "code",
   "execution_count": 18,
   "metadata": {
    "collapsed": false
   },
   "outputs": [
    {
     "data": {
      "text/plain": [
       "array([[<matplotlib.axes._subplots.AxesSubplot object at 0x7f74227add50>]], dtype=object)"
      ]
     },
     "execution_count": 18,
     "metadata": {},
     "output_type": "execute_result"
    },
    {
     "data": {
      "image/png": "[encoded data removed]",
      "text/plain": [
       "<matplotlib.figure.Figure at 0x7f742274b850>"
      ]
     },
     "metadata": {},
     "output_type": "display_data"
    }
   ],
   "source": [
    "dataf = pd.read_csv('../data/exomecqa_refseq_target_reportable_gene.out', sep='\\t', names=['chrom', \n",
    "                                                                               'gene', 'ccs'])\n",
    "dataf.hist()"
   ]
  },
  {
   "cell_type": "code",
   "execution_count": null,
   "metadata": {
    "collapsed": true
   },
   "outputs": [],
   "source": []
  },
  {
   "cell_type": "code",
   "execution_count": 53,
   "metadata": {
    "collapsed": false
   },
   "outputs": [
    {
     "data": {
      "text/html": [
       "<div>\n",
       "<table border=\"1\" class=\"dataframe\">\n",
       "  <thead>\n",
       "    <tr style=\"text-align: right;\">\n",
       "      <th></th>\n",
       "      <th>chr</th>\n",
       "      <th>start</th>\n",
       "      <th>end</th>\n",
       "      <th>gene</th>\n",
       "      <th>exon_num</th>\n",
       "      <th>strand</th>\n",
       "      <th>exon_id</th>\n",
       "      <th>exon_len</th>\n",
       "      <th>cohentcoverage</th>\n",
       "      <th>medMeanCov</th>\n",
       "      <th>MaxIdx</th>\n",
       "      <th>MinIdx</th>\n",
       "      <th>vertexes_</th>\n",
       "      <th>vertexes</th>\n",
       "      <th>peakFeatures</th>\n",
       "      <th>unevenness</th>\n",
       "    </tr>\n",
       "  </thead>\n",
       "  <tbody>\n",
       "    <tr>\n",
       "      <th>0</th>\n",
       "      <td>1</td>\n",
       "      <td>247463797</td>\n",
       "      <td>247464578</td>\n",
       "      <td>NM_032752</td>\n",
       "      <td>2</td>\n",
       "      <td>-</td>\n",
       "      <td>2</td>\n",
       "      <td>781</td>\n",
       "      <td>0.998720</td>\n",
       "      <td>1.0</td>\n",
       "      <td>0</td>\n",
       "      <td>0</td>\n",
       "      <td>1</td>\n",
       "      <td>,1,-19,</td>\n",
       "      <td>|117.334,117.334,18|</td>\n",
       "      <td>5090.980</td>\n",
       "    </tr>\n",
       "    <tr>\n",
       "      <th>1</th>\n",
       "      <td>1</td>\n",
       "      <td>248512076</td>\n",
       "      <td>248512823</td>\n",
       "      <td>NM_001001918</td>\n",
       "      <td>2</td>\n",
       "      <td>+</td>\n",
       "      <td>2</td>\n",
       "      <td>747</td>\n",
       "      <td>0.998661</td>\n",
       "      <td>1.0</td>\n",
       "      <td>0</td>\n",
       "      <td>0</td>\n",
       "      <td>1</td>\n",
       "      <td>,1,-19,</td>\n",
       "      <td>|116.342,116.342,18|</td>\n",
       "      <td>4828.180</td>\n",
       "    </tr>\n",
       "    <tr>\n",
       "      <th>2</th>\n",
       "      <td>1</td>\n",
       "      <td>1179570</td>\n",
       "      <td>1179655</td>\n",
       "      <td>NM_001014980</td>\n",
       "      <td>10</td>\n",
       "      <td>-</td>\n",
       "      <td>8</td>\n",
       "      <td>85</td>\n",
       "      <td>0.988235</td>\n",
       "      <td>1.0</td>\n",
       "      <td>0</td>\n",
       "      <td>0</td>\n",
       "      <td>1</td>\n",
       "      <td>,1,-6,</td>\n",
       "      <td>|21.7949,21.7949,5|</td>\n",
       "      <td>370.513</td>\n",
       "    </tr>\n",
       "    <tr>\n",
       "      <th>3</th>\n",
       "      <td>1</td>\n",
       "      <td>1572769</td>\n",
       "      <td>1572875</td>\n",
       "      <td>NM_033487</td>\n",
       "      <td>20</td>\n",
       "      <td>-</td>\n",
       "      <td>8</td>\n",
       "      <td>106</td>\n",
       "      <td>0.990566</td>\n",
       "      <td>1.0</td>\n",
       "      <td>0</td>\n",
       "      <td>0</td>\n",
       "      <td>1</td>\n",
       "      <td>,1,-9,</td>\n",
       "      <td>|21.8235,21.8235,8|</td>\n",
       "      <td>289.162</td>\n",
       "    </tr>\n",
       "    <tr>\n",
       "      <th>4</th>\n",
       "      <td>1</td>\n",
       "      <td>6029146</td>\n",
       "      <td>6029319</td>\n",
       "      <td>NM_001291593</td>\n",
       "      <td>6</td>\n",
       "      <td>-</td>\n",
       "      <td>4</td>\n",
       "      <td>173</td>\n",
       "      <td>0.994220</td>\n",
       "      <td>1.0</td>\n",
       "      <td>0</td>\n",
       "      <td>0</td>\n",
       "      <td>1</td>\n",
       "      <td>,1,-13,</td>\n",
       "      <td>|25.3733,25.3733,12|</td>\n",
       "      <td>365.799</td>\n",
       "    </tr>\n",
       "    <tr>\n",
       "      <th>5</th>\n",
       "      <td>1</td>\n",
       "      <td>12320749</td>\n",
       "      <td>12320851</td>\n",
       "      <td>NM_018156</td>\n",
       "      <td>78</td>\n",
       "      <td>+</td>\n",
       "      <td>11</td>\n",
       "      <td>102</td>\n",
       "      <td>0.990196</td>\n",
       "      <td>1.0</td>\n",
       "      <td>0</td>\n",
       "      <td>0</td>\n",
       "      <td>1</td>\n",
       "      <td>,1,-9,</td>\n",
       "      <td>|21,21,8|</td>\n",
       "      <td>267.750</td>\n",
       "    </tr>\n",
       "    <tr>\n",
       "      <th>6</th>\n",
       "      <td>1</td>\n",
       "      <td>22150973</td>\n",
       "      <td>22151364</td>\n",
       "      <td>NM_001013693</td>\n",
       "      <td>11</td>\n",
       "      <td>+</td>\n",
       "      <td>11</td>\n",
       "      <td>391</td>\n",
       "      <td>0.997442</td>\n",
       "      <td>1.0</td>\n",
       "      <td>0</td>\n",
       "      <td>0</td>\n",
       "      <td>1</td>\n",
       "      <td>,1,-9,</td>\n",
       "      <td>|101.689,101.689,8|</td>\n",
       "      <td>4970.030</td>\n",
       "    </tr>\n",
       "    <tr>\n",
       "      <th>7</th>\n",
       "      <td>1</td>\n",
       "      <td>26607562</td>\n",
       "      <td>26607794</td>\n",
       "      <td>NM_031286</td>\n",
       "      <td>5</td>\n",
       "      <td>+</td>\n",
       "      <td>5</td>\n",
       "      <td>232</td>\n",
       "      <td>0.995690</td>\n",
       "      <td>1.0</td>\n",
       "      <td>0</td>\n",
       "      <td>0</td>\n",
       "      <td>1</td>\n",
       "      <td>,1,-16,</td>\n",
       "      <td>|29.7143,29.7143,15|</td>\n",
       "      <td>459.581</td>\n",
       "    </tr>\n",
       "    <tr>\n",
       "      <th>8</th>\n",
       "      <td>1</td>\n",
       "      <td>33160756</td>\n",
       "      <td>33161645</td>\n",
       "      <td>NM_001161708</td>\n",
       "      <td>7</td>\n",
       "      <td>-</td>\n",
       "      <td>6</td>\n",
       "      <td>889</td>\n",
       "      <td>0.998875</td>\n",
       "      <td>1.0</td>\n",
       "      <td>0</td>\n",
       "      <td>0</td>\n",
       "      <td>1</td>\n",
       "      <td>,1,-22,</td>\n",
       "      <td>|120.275,120.275,21|</td>\n",
       "      <td>5091.660</td>\n",
       "    </tr>\n",
       "    <tr>\n",
       "      <th>9</th>\n",
       "      <td>1</td>\n",
       "      <td>33291698</td>\n",
       "      <td>33292522</td>\n",
       "      <td>NR_135107</td>\n",
       "      <td>5</td>\n",
       "      <td>+</td>\n",
       "      <td>2</td>\n",
       "      <td>824</td>\n",
       "      <td>0.998786</td>\n",
       "      <td>1.0</td>\n",
       "      <td>0</td>\n",
       "      <td>0</td>\n",
       "      <td>1</td>\n",
       "      <td>,1,-21,</td>\n",
       "      <td>|118.915,118.915,20|</td>\n",
       "      <td>4899.280</td>\n",
       "    </tr>\n",
       "  </tbody>\n",
       "</table>\n",
       "</div>"
      ],
      "text/plain": [
       "  chr      start        end          gene  exon_num strand  exon_id  exon_len  \\\n",
       "0   1  247463797  247464578     NM_032752         2      -        2       781   \n",
       "1   1  248512076  248512823  NM_001001918         2      +        2       747   \n",
       "2   1    1179570    1179655  NM_001014980        10      -        8        85   \n",
       "3   1    1572769    1572875     NM_033487        20      -        8       106   \n",
       "4   1    6029146    6029319  NM_001291593         6      -        4       173   \n",
       "5   1   12320749   12320851     NM_018156        78      +       11       102   \n",
       "6   1   22150973   22151364  NM_001013693        11      +       11       391   \n",
       "7   1   26607562   26607794     NM_031286         5      +        5       232   \n",
       "8   1   33160756   33161645  NM_001161708         7      -        6       889   \n",
       "9   1   33291698   33292522     NR_135107         5      +        2       824   \n",
       "\n",
       "   cohentcoverage  medMeanCov  MaxIdx  MinIdx  vertexes_ vertexes  \\\n",
       "0        0.998720         1.0       0       0          1  ,1,-19,   \n",
       "1        0.998661         1.0       0       0          1  ,1,-19,   \n",
       "2        0.988235         1.0       0       0          1   ,1,-6,   \n",
       "3        0.990566         1.0       0       0          1   ,1,-9,   \n",
       "4        0.994220         1.0       0       0          1  ,1,-13,   \n",
       "5        0.990196         1.0       0       0          1   ,1,-9,   \n",
       "6        0.997442         1.0       0       0          1   ,1,-9,   \n",
       "7        0.995690         1.0       0       0          1  ,1,-16,   \n",
       "8        0.998875         1.0       0       0          1  ,1,-22,   \n",
       "9        0.998786         1.0       0       0          1  ,1,-21,   \n",
       "\n",
       "           peakFeatures  unevenness  \n",
       "0  |117.334,117.334,18|    5090.980  \n",
       "1  |116.342,116.342,18|    4828.180  \n",
       "2   |21.7949,21.7949,5|     370.513  \n",
       "3   |21.8235,21.8235,8|     289.162  \n",
       "4  |25.3733,25.3733,12|     365.799  \n",
       "5             |21,21,8|     267.750  \n",
       "6   |101.689,101.689,8|    4970.030  \n",
       "7  |29.7143,29.7143,15|     459.581  \n",
       "8  |120.275,120.275,21|    5091.660  \n",
       "9  |118.915,118.915,20|    4899.280  "
      ]
     },
     "execution_count": 53,
     "metadata": {},
     "output_type": "execute_result"
    }
   ],
   "source": [
    "dataf = pd.read_csv('../data/exomecqa_refseq_target_reportable_exon.out', sep='\\t', index_col=None,\n",
    "                   names=['chr','start','end','gene','exon_num','strand',\n",
    "                          'exon_id','exon_len','cohentcoverage','medMeanCov','MaxIdx','MinIdx',\n",
    "                         'vertexes_','vertexes','peakFeatures', 'unevenness'])\n",
    "dataf.head(10)\n",
    "                                                                                           "
   ]
  },
  {
   "cell_type": "code",
   "execution_count": 57,
   "metadata": {
    "collapsed": false
   },
   "outputs": [
    {
     "name": "stderr",
     "output_type": "stream",
     "text": [
      "/home/kevin/dev/bin/anaconda2/envs/sitta/lib/python2.7/site-packages/ipykernel/__main__.py:2: RuntimeWarning: invalid value encountered in sqrt\n",
      "  from ipykernel import kernelapp as app\n"
     ]
    }
   ],
   "source": [
    "# dataf.sort(['unevenness']).head(20)\n",
    "dataf['ue_sqrt'] = np.sqrt(dataf['unevenness'])"
   ]
  },
  {
   "cell_type": "code",
   "execution_count": 58,
   "metadata": {
    "collapsed": false
   },
   "outputs": [
    {
     "data": {
      "text/plain": [
       "array([[<matplotlib.axes._subplots.AxesSubplot object at 0x7f73f1144b10>,\n",
       "        <matplotlib.axes._subplots.AxesSubplot object at 0x7f7400d09810>],\n",
       "       [<matplotlib.axes._subplots.AxesSubplot object at 0x7f73f1015650>,\n",
       "        <matplotlib.axes._subplots.AxesSubplot object at 0x7f73f1039810>]], dtype=object)"
      ]
     },
     "execution_count": 58,
     "metadata": {},
     "output_type": "execute_result"
    },
    {
     "data": {
      "image/png": "[encoded data removed]",
      "text/plain": [
       "<matplotlib.figure.Figure at 0x7f73f11b2110>"
      ]
     },
     "metadata": {},
     "output_type": "display_data"
    }
   ],
   "source": [
    "dataf.hist(['cohentcoverage', 'unevenness', 'ue_sqrt'])"
   ]
  },
  {
   "cell_type": "code",
   "execution_count": 51,
   "metadata": {
    "collapsed": false
   },
   "outputs": [
    {
     "name": "stdout",
     "output_type": "stream",
     "text": [
      "(33, 16)\n"
     ]
    },
    {
     "data": {
      "text/plain": [
       "array([[<matplotlib.axes._subplots.AxesSubplot object at 0x7f7400dbaf10>]], dtype=object)"
      ]
     },
     "execution_count": 51,
     "metadata": {},
     "output_type": "execute_result"
    },
    {
     "data": {
      "image/png": "[encoded data removed]",
      "text/plain": [
       "<matplotlib.figure.Figure at 0x7f7400d5fe10>"
      ]
     },
     "metadata": {},
     "output_type": "display_data"
    }
   ],
   "source": [
    "dataf_uneven = dataf[np.abs(dataf['unevenness'] - 1) < 0.15]#[dataf['cohentcoverage'] < 0.01 ]\n",
    "print dataf_uneven.shape\n",
    "dataf_uneven.hist('unevenness')"
   ]
  },
  {
   "cell_type": "code",
   "execution_count": 45,
   "metadata": {
    "collapsed": false
   },
   "outputs": [
    {
     "data": {
      "text/html": [
       "<div>\n",
       "<table border=\"1\" class=\"dataframe\">\n",
       "  <thead>\n",
       "    <tr style=\"text-align: right;\">\n",
       "      <th></th>\n",
       "      <th>chr</th>\n",
       "      <th>start</th>\n",
       "      <th>end</th>\n",
       "      <th>gene</th>\n",
       "      <th>exon_num</th>\n",
       "      <th>strand</th>\n",
       "      <th>exon_id</th>\n",
       "      <th>exon_len</th>\n",
       "      <th>cohentcoverage</th>\n",
       "      <th>medMeanCov</th>\n",
       "      <th>MaxIdx</th>\n",
       "      <th>MinIdx</th>\n",
       "      <th>vertexes_</th>\n",
       "      <th>vertexes</th>\n",
       "      <th>peakFeatures</th>\n",
       "      <th>unevenness</th>\n",
       "    </tr>\n",
       "  </thead>\n",
       "  <tbody>\n",
       "    <tr>\n",
       "      <th>142362</th>\n",
       "      <td>19</td>\n",
       "      <td>57678786</td>\n",
       "      <td>57678796</td>\n",
       "      <td>NM_001012729</td>\n",
       "      <td>10</td>\n",
       "      <td>-</td>\n",
       "      <td>9</td>\n",
       "      <td>10</td>\n",
       "      <td>0.0</td>\n",
       "      <td>141722000.0</td>\n",
       "      <td>0</td>\n",
       "      <td>0</td>\n",
       "      <td>1</td>\n",
       "      <td>,1,-2,5,</td>\n",
       "      <td>|-1.54168e+08,-1.54168e+08,1|53,53,3|</td>\n",
       "      <td>-1.541680e+09</td>\n",
       "    </tr>\n",
       "  </tbody>\n",
       "</table>\n",
       "</div>"
      ],
      "text/plain": [
       "       chr     start       end          gene  exon_num strand  exon_id  \\\n",
       "142362  19  57678786  57678796  NM_001012729        10      -        9   \n",
       "\n",
       "        exon_len  cohentcoverage   medMeanCov  MaxIdx  MinIdx  vertexes_  \\\n",
       "142362        10             0.0  141722000.0       0       0          1   \n",
       "\n",
       "        vertexes                           peakFeatures    unevenness  \n",
       "142362  ,1,-2,5,  |-1.54168e+08,-1.54168e+08,1|53,53,3| -1.541680e+09  "
      ]
     },
     "execution_count": 45,
     "metadata": {},
     "output_type": "execute_result"
    }
   ],
   "source": [
    "dataf[dataf['cohentcoverage'] < 0.01 ]"
   ]
  }
 ],
 "metadata": {
  "anaconda-cloud": {},
  "kernelspec": {
   "display_name": "Python [conda env:sitta]",
   "language": "python",
   "name": "conda-env-sitta-py"
  },
  "language_info": {
   "codemirror_mode": {
    "name": "ipython",
    "version": 2
   },
   "file_extension": ".py",
   "mimetype": "text/x-python",
   "name": "python",
   "nbconvert_exporter": "python",
   "pygments_lexer": "ipython2",
   "version": "2.7.12"
  }
 },
 "nbformat": 4,
 "nbformat_minor": 2
}
